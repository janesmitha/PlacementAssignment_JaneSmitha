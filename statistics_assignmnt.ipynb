{
 "cells": [
  {
   "cell_type": "markdown",
   "id": "42588eff",
   "metadata": {},
   "source": [
    "Q-1. A university wants to understand the relationship between the SAT scores of its\n",
    "applicants and their college GPA. They collect data on 500 students, including their SAT\n",
    "scores (out of 1600) and their college GPA (on a 4.0 scale). They find that the correlation\n",
    "coefficient between SAT scores and college GPA is 0.7. What does this correlation\n",
    "coefficient indicate about the relationship between SAT scores and college GPA?"
   ]
  },
  {
   "cell_type": "code",
   "execution_count": null,
   "id": "fe24e8b3",
   "metadata": {},
   "outputs": [],
   "source": [
    "a correlation coefficient of 0.7 suggests that as SAT scores increase, college GPA tends to increase as well.\n",
    "The relationship is strong because the coefficient is relatively close to +1. However,\n",
    "it's important to note that correlation does not imply causation. While there is a strong association between \n",
    "SAT scores and college GPA, \n",
    "it doesn't necessarily mean that higher SAT scores cause higher GPAs or vice versa.\n",
    "\n",
    "Other factors, such as study habits, motivation, and personal circumstances, may also influence college performance. \n",
    "Nevertheless, the positive correlation suggests \n",
    "that students with higher SAT scores tend to have higher college GPAs on average within this dataset."
   ]
  },
  {
   "cell_type": "markdown",
   "id": "e3688c48",
   "metadata": {},
   "source": [
    "Q-2. Consider a dataset containing the heights (in centimeters) of 1000 individuals. The\n",
    "mean height is 170 cm with a standard deviation of 10 cm. The dataset is approximately\n",
    "normally distributed, and its skewness is approximately zero. Based on this information,\n",
    "answer the following questions:\n",
    "a. What percentage of individuals in the dataset have heights between 160 cm\n",
    "and 180 cm?\n",
    "b. If we randomly select 100 individuals from the dataset, what is the probability\n",
    "that their average height is greater than 175 cm?\n",
    "c. Assuming the dataset follows a normal distribution, what is the z-score\n",
    "corresponding to a height of 185 cm?\n",
    "d. We know that 5% of the dataset has heights below a certain value. What is\n",
    "the approximate height corresponding to this threshold?\n",
    "e. Calculate the coefficient of variation (CV) for the dataset.\n",
    "f. Calculate the skewness of the dataset and interpret the result"
   ]
  },
  {
   "cell_type": "markdown",
   "id": "5eb00f77",
   "metadata": {},
   "source": [
    "a:ans:> we need to calculate the z-score of the heights and need to check standard normal distribution table to find probabilities\n",
    "    The z-score formula is given by:\n",
    "z = (x - μ) / σ\n",
    "\n",
    "For 160 cm:\n",
    "z1 = (160 - 170) / 10 = -1\n",
    "\n",
    "For 180 cm:\n",
    "z2 = (180 - 170) / 10 = 1\n",
    "we can find the probabilities using calculator where probability ranges from -1 to +1 z-scores of the individuals\n",
    "\n",
    "P(-1 ≤ z ≤ 1) = P(z ≤ 1) - P(z ≤ -1)\n",
    "From the standard normal distribution table, we find that P(z ≤ 1) is approximately 0.8413 and \n",
    "P(z ≤ -1) is approximately 0.1587.\n",
    "P(-1 ≤ z ≤ 1)= 0.8413 - 0.1587 = 0.6826\n",
    " Basing on above estimation around 68% people in the dataset have heights between 160 cm and 180cm\n",
    "\n"
   ]
  },
  {
   "cell_type": "markdown",
   "id": "eb0bc4c1",
   "metadata": {},
   "source": [
    "b:ans:> The average height of a sample of 100 individuals will still follow a normal distribution with the same mean (170 cm), but the standard deviation will be reduced by a factor of sqrt(n), where n is the sample size.\n",
    "\n",
    "Standard deviation of the sample mean = σ/sqrt(n) = 10/sqrt(100) = 1\n",
    "\n",
    "To find the probability that the aver\n",
    "age height of the 100 randomly selected individuals is greater than 175 cm, we need to calculate the z-score for this height and find the corresponding probability using the standard normal distribution table.\n",
    "\n",
    "\n",
    "z = (x - μ) / (σ / sqrt(n))\n",
    "z = (175 - 170) / 1 = 5\n",
    "\n",
    "From the standard normal distribution table, the probability of a z-score greater than 5 is practically zero.\n",
    "\n",
    "Therefore, the probability that the average height of the 100 randomly selected individuals is greater than 175 cm is almost zero."
   ]
  },
  {
   "cell_type": "markdown",
   "id": "55c0b2b5",
   "metadata": {},
   "source": [
    "c:ans:>To find the z-score we follow the following formula\n",
    "    z = (x - μ) / σ\n",
    "    z=180 - 170/10 = 1.5\n",
    "There fore z-score for the corresponding to a height of 185cm is 1.5\n"
   ]
  },
  {
   "cell_type": "markdown",
   "id": "de93796f",
   "metadata": {},
   "source": [
    "d:ans:> To find the approximate height corresponding to a threshold of 5%, we need to find the z-score associated with this probability. In a standard normal distribution, the z-score corresponding to the 5th percentile is approximately -1.645.\n",
    "\n",
    "Therefore, we can calculate the height using the z-score formula:\n",
    "\n",
    "-1.645 = (x - 170) / 10\n",
    "\n",
    "Solving for x, we have:\n",
    "\n",
    "-1.645 * 10 + 170 = x\n",
    "\n",
    "x ≈ 153.55\n",
    "\n",
    "Therefore, the approximate height corresponding to the threshold of 5% is approximately 153.55 cm.\n",
    "        "
   ]
  },
  {
   "cell_type": "markdown",
   "id": "40d65e0b",
   "metadata": {},
   "source": [
    "e. The coefficient of variation (CV) is a measure of relative variability and is calculated as the ratio of the standard deviation (σ) to the mean (μ), expressed as a percentage.\n",
    "\n",
    "CV = (σ / μ) * 100\n",
    "\n",
    "CV = (10 / 170) * 100\n",
    "\n",
    "CV ≈ 5.88%\n",
    "\n",
    "Therefore, the coefficient of variation for the dataset is approximately 5.88%.\n",
    "\n",
    "f. The skewness of a dataset measures the asymmetry of its distribution. A skewness value of approximately zero suggests that the dataset is approximately symmetric.\n",
    "\n",
    "In this case, since the skewness is approximately zero, we can interpret it as an indication that the heights of individuals in the dataset are distributed relatively symmetrically around the mean of 170 cm."
   ]
  },
  {
   "cell_type": "markdown",
   "id": "acd848a3",
   "metadata": {},
   "source": [
    "Q-3. Consider the ‘Blood Pressure Before’ and ‘Blood Pressure After’ columns from the\n",
    "data and calculate the following\n",
    "https://drive.google.com/file/d/1mCjtYHiX--mMUjicuaP2gH3k-SnFxt8Y/view?usp=share_\n",
    "\n",
    "a. Measure the dispersion in both and interpret the results.\n",
    "b. Calculate mean and 5% confidence interval and plot it in a graph\n",
    "c. Calculate the Mean absolute deviation and Standard deviation and interpret\n",
    "the results.\n",
    "d. Calculate the correlation coefficient and check the significance of it at 1% level\n",
    "of significance"
   ]
  },
  {
   "cell_type": "markdown",
   "id": "f98f3fcb",
   "metadata": {},
   "source": [
    "a:ans:> To measure the dispersion in both blood pressure levels we need to caliculate the mean and confidence interval \n",
    "        we can calculate the range,variance and standard deviation\n",
    "        \n",
    "        Range: The range difference between the maximum and minimum values in the dataset.\n",
    "        \n",
    "        For 'Bloodpressure before':\n",
    "        Range=maxvalue-minvalue = 148 - 120 = 28\n",
    "        \n",
    "        For 'Blood Pressure After':\n",
    "        Range = Maximum value - Minimum value = 141 - 118 = 23 mmHg\n",
    "        \n",
    "        Variance: The variance measures the average squared deviation from the mean.\n",
    "            \n",
    "        For 'Blood Pressure Before':\n",
    "        Mean = Sum of all values / Number of values = (130 + 142 + ... + 135) / 100\n",
    "        Calculate the mean and then calculate the squared deviations from the mean for each value. Then, sum up the squared deviations and divide by the number of values.\n",
    "\n",
    "        For 'Blood Pressure After':\n",
    "        Mean = Sum of all values / Number of values = (120 + 135 + ... + 130) / 100\n",
    "        Calculate the mean and then calculate the squared deviations from the mean for each value. Then, sum up the squared deviations and divide by the number of values.\n",
    "\n",
    "        Standard Deviation: The standard deviation is the square root of the variance and provides a measure of the dispersion around the mean.\n",
    "            \n",
    "            For 'Bloodpressure Before':\n",
    "                Calculate the square root of the variance calculated above.\n",
    "            For 'Bloodpressure After':\n",
    "                Calculate the square root of the variance calculated above.\n",
    "        Interpretation:The range gives us an idea of the spread between the minimum and maximum values in the dataset.The variance and standard deviation indicate the\n",
    "                        dispersion of the data points around the mean. A higher variance or standard deviation suggests a greater spread or variability in the data.\n",
    "            \n",
    "b:ans:> To calculate the mean and 5% confidence interval, we can use the formulas:\n",
    "\n",
    "        Mean = Sum of all values / Number of values\n",
    "\n",
    "        For 'Blood Pressure Before':\n",
    "        Calculate the mean using the formula.\n",
    "\n",
    "        For 'Blood Pressure After':\n",
    "        Calculate the mean using the formula.\n",
    "\n",
    "        To calculate the 5% confidence interval, we can use the formula:\n",
    "            Mean = Sum of all values / Number of values\n",
    "\n",
    "        For 'Blood Pressure Before':\n",
    "        Calculate the mean using the formula.\n",
    "\n",
    "        For 'Blood Pressure After':\n",
    "        Calculate the mean using the formula.\n",
    "\n",
    "        To calculate the 5% confidence interval, we can use the formula:\n",
    "\n",
    "        Confidence Interval = Mean ± (Critical Value * Standard Error)\n",
    "        Plotting the mean and confidence interval on a graph can be done using various software or programming tools such as Excel or Python's matplotlib library.\n",
    "\n",
    "c:ans:> Mean Absolute Deviation (MAD): MAD is the average absolute difference between each data point and the mean. It measures the average distance of each data point from the mean.\n",
    "            For 'Blood Pressure Before':\n",
    "            Calculate the mean using the formula.\n",
    "            Calculate the absolute difference between each data point and the mean.\n",
    "            Calculate the average of these absolute differences.\n",
    "\n",
    "            For 'Blood Pressure After':\n",
    "            Calculate the mean using the formula.\n",
    "            Calculate the absolute difference between each data point and the mean.\n",
    "            Calculate the average of these absolute differences.\n",
    "\n",
    "            Standard Deviation: The standard deviation measures the dispersion of the data points around the mean.\n",
    "\n",
    "            For 'Blood Pressure Before':\n",
    "           \n",
    "            Calculate the standard deviation using the formula.\n",
    "\n",
    "            For 'Blood Pressure After':\n",
    "            Calculate the standard deviation using the formula.\n",
    "\n",
    "            Interpretation: MAD provides a measure of the average absolute distance between data points and the mean. A lower MAD indicates less dispersion or variability in the data. The standard deviation measures the dispersion around the mean, with a higher standard deviation indicating a\n",
    "                greater spread or variability in the data."
   ]
  },
  {
   "cell_type": "code",
   "execution_count": 1,
   "id": "debc120a",
   "metadata": {},
   "outputs": [
    {
     "name": "stdout",
     "output_type": "stream",
     "text": [
      "   Patient ID   Blood Pressure Before (mmHg)   Blood Pressure After (mmHg)\n",
      "0           1                            130                           120\n",
      "1           2                            142                           135\n",
      "2           3                            120                           118\n",
      "3           4                            135                           127\n",
      "4           5                            148                           140\n"
     ]
    }
   ],
   "source": [
    "import pandas as pd\n",
    "\n",
    "# Load the dataset\n",
    "data_url = \"https://raw.githubusercontent.com/astha1997/hello-world/main/data.csv\"\n",
    "df = pd.read_csv(data_url)\n",
    "\n",
    "# Display the first few rows of the dataset\n",
    "print(df.head())"
   ]
  },
  {
   "cell_type": "code",
   "execution_count": 2,
   "id": "1f2dd3b0",
   "metadata": {},
   "outputs": [
    {
     "name": "stdout",
     "output_type": "stream",
     "text": [
      "<class 'pandas.core.frame.DataFrame'>\n",
      "RangeIndex: 100 entries, 0 to 99\n",
      "Data columns (total 3 columns):\n",
      " #   Column                         Non-Null Count  Dtype\n",
      "---  ------                         --------------  -----\n",
      " 0   Patient ID                     100 non-null    int64\n",
      " 1    Blood Pressure Before (mmHg)  100 non-null    int64\n",
      " 2    Blood Pressure After (mmHg)   100 non-null    int64\n",
      "dtypes: int64(3)\n",
      "memory usage: 2.5 KB\n"
     ]
    }
   ],
   "source": [
    "df.info()"
   ]
  },
  {
   "cell_type": "code",
   "execution_count": 3,
   "id": "5d6f10b3",
   "metadata": {},
   "outputs": [
    {
     "name": "stdout",
     "output_type": "stream",
     "text": [
      "Dispersion (Standard Deviation)\n",
      "Before: 6.598278012275075\n",
      "After: 6.8880221025232276\n"
     ]
    }
   ],
   "source": [
    "# Dispersion measures\n",
    "dispersion_before = df[' Blood Pressure Before (mmHg)'].std()  # Standard Deviation\n",
    "dispersion_after = df[' Blood Pressure After (mmHg)'].std()    # Standard Deviation\n",
    "\n",
    "print(\"Dispersion (Standard Deviation)\")\n",
    "print(\"Before:\", dispersion_before)\n",
    "print(\"After:\", dispersion_after)"
   ]
  },
  {
   "cell_type": "code",
   "execution_count": 4,
   "id": "3cacf803",
   "metadata": {},
   "outputs": [
    {
     "name": "stdout",
     "output_type": "stream",
     "text": [
      "Index(['Patient ID', ' Blood Pressure Before (mmHg)',\n",
      "       ' Blood Pressure After (mmHg)'],\n",
      "      dtype='object')\n"
     ]
    }
   ],
   "source": [
    "print(df.columns)"
   ]
  },
  {
   "cell_type": "markdown",
   "id": "6d8a1538",
   "metadata": {},
   "source": [
    "b>:ans:>To calculate the mean and 5% confidence interval, we can use the formulas:"
   ]
  },
  {
   "cell_type": "code",
   "execution_count": 5,
   "id": "74c804ed",
   "metadata": {},
   "outputs": [
    {
     "name": "stdout",
     "output_type": "stream",
     "text": [
      "Mean and Confidence Interval\n",
      "Before:\n",
      "Mean: 133.91\n",
      "Confidence Interval: (132.6167375095941, 135.2032624904059)\n",
      "After:\n",
      "Mean: 128.36\n",
      "Confidence Interval: (127.00994766790546, 129.71005233209456)\n"
     ]
    }
   ],
   "source": [
    "# Mean and Confidence Interval\n",
    "mean_before = df[' Blood Pressure Before (mmHg)'].mean()\n",
    "mean_after = df[' Blood Pressure After (mmHg)'].mean()\n",
    "\n",
    "n = len(df)  # Sample size\n",
    "critical_value = 1.96  # For a 95% confidence interval\n",
    "\n",
    "se_before = df[' Blood Pressure Before (mmHg)'].std() / (n ** 0.5)  # Standard Error\n",
    "se_after = df[' Blood Pressure After (mmHg)'].std() / (n ** 0.5)  # Standard Error\n",
    "\n",
    "confidence_interval_before = (mean_before - critical_value * se_before, mean_before + critical_value * se_before)\n",
    "confidence_interval_after = (mean_after - critical_value * se_after, mean_after + critical_value * se_after)\n",
    "\n",
    "print(\"Mean and Confidence Interval\")\n",
    "print(\"Before:\")\n",
    "print(\"Mean:\", mean_before)\n",
    "print(\"Confidence Interval:\", confidence_interval_before)\n",
    "print(\"After:\")\n",
    "print(\"Mean:\", mean_after)\n",
    "print(\"Confidence Interval:\", confidence_interval_after)"
   ]
  },
  {
   "cell_type": "code",
   "execution_count": 7,
   "id": "b87fd6fb",
   "metadata": {},
   "outputs": [
    {
     "name": "stdout",
     "output_type": "stream",
     "text": [
      "Mean Absolute Deviation (MAD)\n",
      "Before: 5.7118\n",
      "After: 5.9\n",
      "Standard Deviation (SD)\n",
      "Before: 6.598278012275075\n",
      "After: 6.8880221025232276\n"
     ]
    }
   ],
   "source": [
    "#caliculate the Mean Absolute Deviation (MAD) and Standard Deviation (SD):\n",
    "\n",
    "# Mean Absolute Deviation (MAD) and Standard Deviation (SD)\n",
    "mad_before = df[' Blood Pressure Before (mmHg)'].mad()\n",
    "mad_after = df[' Blood Pressure After (mmHg)'].mad()\n",
    "\n",
    "print(\"Mean Absolute Deviation (MAD)\")\n",
    "print(\"Before:\", mad_before)\n",
    "print(\"After:\", mad_after)\n",
    "\n",
    "print(\"Standard Deviation (SD)\")\n",
    "print(\"Before:\", dispersion_before)\n",
    "print(\"After:\", dispersion_after)"
   ]
  },
  {
   "cell_type": "markdown",
   "id": "469688ce",
   "metadata": {},
   "source": [
    "d. Calculate the correlation coefficient and check its significance at a 1% level of significance:"
   ]
  },
  {
   "cell_type": "code",
   "execution_count": 9,
   "id": "df6a3481",
   "metadata": {},
   "outputs": [
    {
     "name": "stdout",
     "output_type": "stream",
     "text": [
      "Correlation Coefficient: 0.9779485966556016\n",
      "Significance Test (1% level of significance)\n",
      "t-value: 46.35573256849114\n",
      "p-value: 0.0\n"
     ]
    }
   ],
   "source": [
    "from scipy import stats\n",
    "# Correlation coefficient and significance\n",
    "correlation_coefficient = df[' Blood Pressure Before (mmHg)'].corr(df[' Blood Pressure After (mmHg)'])\n",
    "\n",
    "# Significance test\n",
    "n = len(df)  # Sample size\n",
    "degree_of_freedom = n - 2  # Degrees of freedom\n",
    "alpha = 0.01  # Significance level\n",
    "\n",
    "t_critical = stats.t.ppf(1 - alpha / 2, degree_of_freedom)  # Critical value for t-test\n",
    "standard_error = (1 - correlation_coefficient ** 2) ** 0.5 / (n - 2) ** 0.5  # Standard error\n",
    "\n",
    "t_value = correlation_coefficient / standard_error  # t-value\n",
    "p_value = 2 * (1 - stats.t.cdf(abs(t_value), degree_of_freedom))  # Two-tailed p-value\n",
    "\n",
    "print(\"Correlation Coefficient:\", correlation_coefficient)\n",
    "print(\"Significance Test (1% level of significance)\")\n",
    "print(\"t-value:\", t_value)\n",
    "print(\"p-value:\", p_value)"
   ]
  },
  {
   "cell_type": "markdown",
   "id": "8706e432",
   "metadata": {},
   "source": [
    "Q-4. A group of 20 friends decide to play a game in which they each write a number\n",
    "between 1 and 20 on a slip of paper and put it into a hat. They then draw one slip of paper\n",
    "at random. What is the probability that the number on the slip of paper is a perfect square\n",
    "(i.e., 1, 4, 9, or 16)?"
   ]
  },
  {
   "cell_type": "markdown",
   "id": "9c8c1ff0",
   "metadata": {},
   "source": [
    "Probability = (Number of favorable outcomes) / (Total number of possible outcomes)\n",
    "\n",
    "Probability = (Number of perfect square numbers) / (Total number of numbers)\n",
    "\n",
    "Probability = 4 / 20\n",
    "\n",
    "Simplifying,\n",
    "\n",
    "Probability = 1 / 5\n",
    "\n",
    "So, the probability that the number on the slip of paper is a perfect square is 1/5 or 0.2 (20%)."
   ]
  },
  {
   "cell_type": "markdown",
   "id": "7073f7aa",
   "metadata": {},
   "source": [
    "Q-5. A certain city has two taxi companies: Company A has 80% of the taxis and\n",
    "Company B has 20% of the taxis. Company A's taxis have a 95% success rate for picking\n",
    "up passengers on time, while Company B's taxis have a 90% success rate. If a randomly\n",
    "selected taxi is late, what is the probability that it belongs to Company A?"
   ]
  },
  {
   "cell_type": "markdown",
   "id": "ae134696",
   "metadata": {},
   "source": [
    "To calculate the probability that a randomly selected late taxi belongs to Company A, we can use Bayes' theorem.\n",
    "\n",
    "Let's denote:\n",
    "\n",
    "Event A: Taxi belongs to Company A\n",
    "Event B: Taxi is late\n",
    "We are given:\n",
    "\n",
    "P(A) = 0.8 (probability of selecting a taxi from Company A)\n",
    "P(B|A) = 0.05 (success rate of Company A's taxis, which implies the probability of a taxi from Company A being late is 1 - 0.95 = 0.05)\n",
    "P(B|not A) = 0.1 (success rate of Company B's taxis, which implies the probability of a taxi from Company B being late is 1 - 0.9 = 0.1)\n",
    "We want to find P(A|B), the probability that a randomly selected late taxi belongs to Company A.\n",
    "\n",
    "According to Bayes' theorem:\n",
    "\n",
    "P(A|B) = (P(A) * P(B|A)) / P(B)\n",
    "\n",
    "We need to calculate P(B), the probability of a taxi being late, which can be expressed as:\n",
    "\n",
    "P(B) = P(A) * P(B|A) + P(not A) * P(B|not A)\n",
    "\n",
    "P(not A) = 1 - P(A) = 1 - 0.8 = 0.2 (probability of selecting a taxi from Company B)\n",
    "\n",
    "Now we can substitute the values into the equation:\n",
    "\n",
    "P(B) = (0.8 * 0.05) + (0.2 * 0.1)\n",
    "= 0.04 + 0.02\n",
    "= 0.06\n",
    "\n",
    "Finally, we can calculate P(A|B):\n",
    "\n",
    "P(A|B) = (P(A) * P(B|A)) / P(B)\n",
    "= (0.8 * 0.05) / 0.06\n",
    "= 0.04 / 0.06\n",
    "= 2/3\n",
    "≈ 0.67\n",
    "\n",
    "Therefore, the probability that a randomly selected late taxi belongs to Company A is approximately 0.67 or 67%.\n",
    "\n",
    "\n",
    "\n",
    "\n",
    "\n",
    "\n"
   ]
  },
  {
   "cell_type": "markdown",
   "id": "7fb4b61d",
   "metadata": {},
   "source": [
    "Q-6. A pharmaceutical company is developing a drug that is supposed to reduce blood\n",
    "pressure. They conduct a clinical trial with 100 patients and record their blood\n",
    "pressure before and after taking the drug. The company wants to know if the change\n",
    "in blood pressure follows a normal distribution.\n",
    "https://drive.google.com/file/d/1mCjtYHiX--mMUjicuaP2gH3k-SnFxt8Y/view?usp=share_"
   ]
  },
  {
   "cell_type": "code",
   "execution_count": 12,
   "id": "93fdf315",
   "metadata": {},
   "outputs": [],
   "source": [
    "import pandas as pd\n",
    "from scipy import stats"
   ]
  },
  {
   "cell_type": "code",
   "execution_count": 13,
   "id": "9388f40f",
   "metadata": {},
   "outputs": [],
   "source": [
    "data_url = 'https://raw.githubusercontent.com/astha1997/hello-world/main/data.csv'\n",
    "data = pd.read_csv(data_url)"
   ]
  },
  {
   "cell_type": "code",
   "execution_count": 14,
   "id": "b7be83a1",
   "metadata": {},
   "outputs": [
    {
     "data": {
      "text/html": [
       "<div>\n",
       "<style scoped>\n",
       "    .dataframe tbody tr th:only-of-type {\n",
       "        vertical-align: middle;\n",
       "    }\n",
       "\n",
       "    .dataframe tbody tr th {\n",
       "        vertical-align: top;\n",
       "    }\n",
       "\n",
       "    .dataframe thead th {\n",
       "        text-align: right;\n",
       "    }\n",
       "</style>\n",
       "<table border=\"1\" class=\"dataframe\">\n",
       "  <thead>\n",
       "    <tr style=\"text-align: right;\">\n",
       "      <th></th>\n",
       "      <th>Patient ID</th>\n",
       "      <th>Blood Pressure Before (mmHg)</th>\n",
       "      <th>Blood Pressure After (mmHg)</th>\n",
       "    </tr>\n",
       "  </thead>\n",
       "  <tbody>\n",
       "    <tr>\n",
       "      <th>0</th>\n",
       "      <td>1</td>\n",
       "      <td>130</td>\n",
       "      <td>120</td>\n",
       "    </tr>\n",
       "    <tr>\n",
       "      <th>1</th>\n",
       "      <td>2</td>\n",
       "      <td>142</td>\n",
       "      <td>135</td>\n",
       "    </tr>\n",
       "    <tr>\n",
       "      <th>2</th>\n",
       "      <td>3</td>\n",
       "      <td>120</td>\n",
       "      <td>118</td>\n",
       "    </tr>\n",
       "    <tr>\n",
       "      <th>3</th>\n",
       "      <td>4</td>\n",
       "      <td>135</td>\n",
       "      <td>127</td>\n",
       "    </tr>\n",
       "    <tr>\n",
       "      <th>4</th>\n",
       "      <td>5</td>\n",
       "      <td>148</td>\n",
       "      <td>140</td>\n",
       "    </tr>\n",
       "    <tr>\n",
       "      <th>...</th>\n",
       "      <td>...</td>\n",
       "      <td>...</td>\n",
       "      <td>...</td>\n",
       "    </tr>\n",
       "    <tr>\n",
       "      <th>95</th>\n",
       "      <td>96</td>\n",
       "      <td>136</td>\n",
       "      <td>129</td>\n",
       "    </tr>\n",
       "    <tr>\n",
       "      <th>96</th>\n",
       "      <td>97</td>\n",
       "      <td>143</td>\n",
       "      <td>137</td>\n",
       "    </tr>\n",
       "    <tr>\n",
       "      <th>97</th>\n",
       "      <td>98</td>\n",
       "      <td>127</td>\n",
       "      <td>123</td>\n",
       "    </tr>\n",
       "    <tr>\n",
       "      <th>98</th>\n",
       "      <td>99</td>\n",
       "      <td>139</td>\n",
       "      <td>135</td>\n",
       "    </tr>\n",
       "    <tr>\n",
       "      <th>99</th>\n",
       "      <td>100</td>\n",
       "      <td>135</td>\n",
       "      <td>130</td>\n",
       "    </tr>\n",
       "  </tbody>\n",
       "</table>\n",
       "<p>100 rows × 3 columns</p>\n",
       "</div>"
      ],
      "text/plain": [
       "    Patient ID   Blood Pressure Before (mmHg)   Blood Pressure After (mmHg)\n",
       "0            1                            130                           120\n",
       "1            2                            142                           135\n",
       "2            3                            120                           118\n",
       "3            4                            135                           127\n",
       "4            5                            148                           140\n",
       "..         ...                            ...                           ...\n",
       "95          96                            136                           129\n",
       "96          97                            143                           137\n",
       "97          98                            127                           123\n",
       "98          99                            139                           135\n",
       "99         100                            135                           130\n",
       "\n",
       "[100 rows x 3 columns]"
      ]
     },
     "execution_count": 14,
     "metadata": {},
     "output_type": "execute_result"
    }
   ],
   "source": [
    "data"
   ]
  },
  {
   "cell_type": "code",
   "execution_count": 15,
   "id": "ee3a0a5c",
   "metadata": {},
   "outputs": [],
   "source": [
    "change_in_bp = data[' Blood Pressure After (mmHg)'] - data[' Blood Pressure Before (mmHg)']"
   ]
  },
  {
   "cell_type": "code",
   "execution_count": 17,
   "id": "80bb780e",
   "metadata": {},
   "outputs": [],
   "source": [
    "statistic, p_value = stats.shapiro(change_in_bp)"
   ]
  },
  {
   "cell_type": "code",
   "execution_count": 18,
   "id": "47139329",
   "metadata": {},
   "outputs": [
    {
     "name": "stdout",
     "output_type": "stream",
     "text": [
      "The change in blood pressure does not follow a normal distribution (reject the null hypothesis)\n"
     ]
    }
   ],
   "source": [
    "alpha = 0.05  # Significance level\n",
    "\n",
    "if p_value > alpha:\n",
    "    print(\"The change in blood pressure follows a normal distribution (fail to reject the null hypothesis)\")\n",
    "else:\n",
    "    print(\"The change in blood pressure does not follow a normal distribution (reject the null hypothesis)\")"
   ]
  },
  {
   "cell_type": "code",
   "execution_count": 19,
   "id": "31df928e",
   "metadata": {},
   "outputs": [
    {
     "data": {
      "text/plain": [
       "0.0014939684187993407"
      ]
     },
     "execution_count": 19,
     "metadata": {},
     "output_type": "execute_result"
    }
   ],
   "source": [
    "p_value"
   ]
  },
  {
   "cell_type": "markdown",
   "id": "ecb9a961",
   "metadata": {},
   "source": [
    "Q-7. The equations of two lines of regression, obtained in a correlation analysis between variables X and Y are as follows: and .\n",
    "    2𝑋 + 3 − 8 = 0 2𝑌 + 𝑋 − 5 = 0 The variance of 𝑋 = 4 Find the a. Variance of Y b. Coefficient of determination of C and Y c. Standard error of estimate of X on Y and\n",
    "    of Y on X."
   ]
  },
  {
   "cell_type": "code",
   "execution_count": null,
   "id": "4bc793de",
   "metadata": {},
   "outputs": [],
   "source": [
    "To calculate the variance of Y, coefficient of determination (R^2), and the standard error of estimate,\n",
    "we can use the equations provided and the given variance of X. Here are the steps to calculate each value:\n",
    "\n",
    "a. Variance of Y:\n",
    "From the equation 2Y + X - 5 = 0\n",
    "2Y = -X + 5\n",
    "Y = (-X + 5)/2\n",
    "\n",
    "To calculate the variance of Y, we need to substitute the variance of X into the equation. Given that the variance of X is 4, we have:\n",
    "Variance of Y = (1/4) * Variance of X\n",
    "Variance of Y = (1/4) * 4\n",
    "Variance of Y = 1\n",
    "\n",
    "Therefore, the variance of Y is 1.\n",
    "\n",
    "b. Coefficient of determination (R^2):\n",
    "The coefficient of determination (R^2) represents the proportion of the variance in Y that can be explained by the regression line.\n",
    "In this case, we have two regression lines, so we need to calculate R^2 for each line.\n",
    "\n",
    "For the line 2X + 3 - 8 = 0:\n",
    "R^2 = (Variance of X - Variance of Error in X)/(Variance of X)\n",
    "= (4 - 0)/(4)\n",
    "= 1\n",
    "\n",
    "For the line 2Y + X - 5 = 0:\n",
    "R^2 = (Variance of Y - Variance of Error in Y)/(Variance of Y)\n",
    "= (1 - 0)/(1)\n",
    "= 1\n",
    "\n",
    "Therefore, the coefficient of determination (R^2) for both X and Y is 1.\n",
    "\n",
    "c. Standard error of estimate:\n",
    "The standard error of estimate measures the average distance between the predicted values of Y (based on the regression line) and the actual observed values of Y.\n",
    "We need to calculate the standard error of estimate for X on Y and Y on X.\n",
    "For X on Y:\n",
    "Standard error of estimate of X on Y = (Variance of Error in X)^(1/2)\n",
    "= (0)^(1/2)\n",
    "= 0\n",
    "\n",
    "For Y on X:\n",
    "Standard error of estimate of Y on X = (Variance of Error in Y)^(1/2)\n",
    "= (0)^(1/2)\n",
    "= 0\n",
    "\n",
    "Therefore, the standard error of estimate of X on Y and Y on X is 0.\n"
   ]
  },
  {
   "cell_type": "markdown",
   "id": "8ea51fed",
   "metadata": {},
   "source": [
    "Q-8. The anxiety levels of 10 participants were measured before and after a new therapy.\n",
    "The scores are not normally distributed. Use the Wilcoxon signed-rank test to test whether\n",
    "the therapy had a significant effect on anxiety levels. The data is given below: Participant\n",
    "Before therapy After therapy Difference"
   ]
  },
  {
   "cell_type": "markdown",
   "id": "e2c1c212",
   "metadata": {},
   "source": [
    "Participant Before therapy After therapy Difference 1 10 7 -3 2 8 6 -2 3 12 10 -2 4 15 12 -3 5 6 5 -1 6 9 8 -1 7 11 9 -2 8 7 6 -1 9 14 12 -2 10 10 8 -2"
   ]
  },
  {
   "cell_type": "code",
   "execution_count": 24,
   "id": "83007a15",
   "metadata": {},
   "outputs": [
    {
     "name": "stdout",
     "output_type": "stream",
     "text": [
      "Wilcoxon signed-rank test:\n",
      "Test statistic: 0.0\n",
      "p-value: 0.001953125\n"
     ]
    }
   ],
   "source": [
    "import scipy.stats as stats\n",
    "\n",
    "# Data\n",
    "before_therapy = [10, 8, 12, 15, 6, 9, 11, 7, 14, 10]\n",
    "after_therapy = [7, 6, 10, 12, 5, 8, 9, 6, 12, 8]\n",
    "difference = [-3, -2, -2, -3, -1, -1, -2, -1, -2, -2]\n",
    "\n",
    "# Perform Wilcoxon signed-rank test\n",
    "statistic, p_value = stats.wilcoxon(difference)\n",
    "\n",
    "# Print the results\n",
    "print(\"Wilcoxon signed-rank test:\")\n",
    "print(\"Test statistic:\", statistic)\n",
    "print(\"p-value:\", p_value)"
   ]
  },
  {
   "cell_type": "code",
   "execution_count": null,
   "id": "f7297c7d",
   "metadata": {},
   "outputs": [],
   "source": [
    "Q-9. Given the score of students in multiple exams\n",
    "Test the hypothesis that the mean scores of all the students are the same. If not, name the\n",
    "student with the highest score."
   ]
  },
  {
   "cell_type": "code",
   "execution_count": 25,
   "id": "a3d7530f",
   "metadata": {},
   "outputs": [
    {
     "name": "stdout",
     "output_type": "stream",
     "text": [
      "Wilcoxon signed-rank test:\n",
      "Test statistic: 0.0\n",
      "p-value: 0.001953125\n"
     ]
    }
   ],
   "source": [
    "import scipy.stats as stats\n",
    "\n",
    "# Data\n",
    "before_therapy = [10, 8, 12, 15, 6, 9, 11, 7, 14, 10]\n",
    "after_therapy = [7, 6, 10, 12, 5, 8, 9, 6, 12, 8]\n",
    "difference = [-3, -2, -2, -3, -1, -1, -2, -1, -2, -2]\n",
    "\n",
    "# Perform Wilcoxon signed-rank test\n",
    "statistic, p_value = stats.wilcoxon(difference)\n",
    "\n",
    "# Print the results\n",
    "print(\"Wilcoxon signed-rank test:\")\n",
    "print(\"Test statistic:\", statistic)\n",
    "print(\"p-value:\", p_value)"
   ]
  },
  {
   "cell_type": "markdown",
   "id": "d74d63a2",
   "metadata": {},
   "source": [
    "Q-10. A factory produces light bulbs, and the probability of a bulb being defective is 0.05.\n",
    "The factory produces a large batch of 500 light bulbs.\n",
    "a. What is the probability that exactly 20 bulbs are defective?\n",
    "b. What is the probability that at least 10 bulbs are defective?\n",
    "c. What is the probability that at max 15 bulbs are defective?\n",
    "d. On average, how many defective bulbs would you expect in a batch of 500?"
   ]
  },
  {
   "cell_type": "markdown",
   "id": "22b9048d",
   "metadata": {},
   "source": [
    "\n",
    "To solve these probability questions, we can use the binomial distribution since we have a fixed number of trials (500 light bulbs) and each trial has two possible outcomes (defective or not defective) with a known probability of success (0.05 for being defective).\n",
    "\n",
    "a. Probability of exactly 20 bulbs being defective:\n",
    "P(X = 20) = (500 choose 20) * (0.05)^20 * (0.95)^(500-20)\n",
    "\n",
    "b. Probability of at least 10 bulbs being defective:\n",
    "P(X >= 10) = 1 - P(X < 10) = 1 - [P(X = 0) + P(X = 1) + ... + P(X = 9)]\n",
    "\n",
    "c. Probability of at most 15 bulbs being defective:\n",
    "P(X <= 15) = P(X = 0) + P(X = 1) + ... + P(X = 15)\n",
    "\n",
    "d. Average number of defective bulbs in a batch of 500:\n",
    "Expected value = n * p\n",
    "\n",
    "where n is the number of trials (500) and p is the probability of success (0.05).\n",
    "\n",
    "Using the formulas above, we can calculate the probabilities and expected value for the given scenarios."
   ]
  },
  {
   "cell_type": "code",
   "execution_count": 26,
   "id": "b9989e54",
   "metadata": {},
   "outputs": [
    {
     "name": "stdout",
     "output_type": "stream",
     "text": [
      "a. Probability that exactly 20 bulbs are defective: 0.051616192536641056\n",
      "b. Probability that at least 10 bulbs are defective: 0.9998316463654896\n",
      "c. Probability that at max 15 bulbs are defective: 0.019858377163006646\n",
      "d. Expected number of defective bulbs: 25.0\n"
     ]
    },
    {
     "name": "stderr",
     "output_type": "stream",
     "text": [
      "C:\\ineuron\\lib\\site-packages\\scipy\\stats\\_discrete_distns.py:78: RuntimeWarning: divide by zero encountered in _binom_pdf\n",
      "  return _boost._binom_pdf(x, n, p)\n"
     ]
    }
   ],
   "source": [
    "from scipy.stats import binom\n",
    "\n",
    "# Total number of bulbs\n",
    "n = 500\n",
    "\n",
    "# Probability of a bulb being defective\n",
    "p = 0.05\n",
    "\n",
    "# a. Probability that exactly 20 bulbs are defective\n",
    "k = 20\n",
    "prob_20_defective = binom.pmf(k, n, p)\n",
    "\n",
    "# b. Probability that at least 10 bulbs are defective\n",
    "k_values = range(10, n+1)\n",
    "prob_at_least_10_defective = sum(binom.pmf(k, n, p) for k in k_values)\n",
    "\n",
    "# c. Probability that at max 15 bulbs are defective\n",
    "k_values = range(0, 16)\n",
    "prob_at_most_15_defective = sum(binom.pmf(k, n, p) for k in k_values)\n",
    "\n",
    "# d. Expected number of defective bulbs\n",
    "expected_defective_bulbs = n * p\n",
    "\n",
    "# Print the results\n",
    "print(\"a. Probability that exactly 20 bulbs are defective:\", prob_20_defective)\n",
    "print(\"b. Probability that at least 10 bulbs are defective:\", prob_at_least_10_defective)\n",
    "print(\"c. Probability that at max 15 bulbs are defective:\", prob_at_most_15_defective)\n",
    "print(\"d. Expected number of defective bulbs:\", expected_defective_bulbs)"
   ]
  },
  {
   "cell_type": "markdown",
   "id": "a75f1fba",
   "metadata": {},
   "source": [
    "Q-11. Given the data of a feature contributing to different classes\n",
    "https://drive.google.com/file/d/1mCjtYHiX--mMUjicuaP2gH3k-SnFxt8Y/view?usp\n",
    "=share_\n",
    "a. Check whether the distribution of all the classes are the same or not.\n",
    "b. Check for the equality of variance/\n",
    "c. Which amount LDA and QDA would perform better on this data for\n",
    "classification and why.\n",
    "d. Check the equality of mean for between all the classes"
   ]
  },
  {
   "cell_type": "code",
   "execution_count": 27,
   "id": "1b3cc907",
   "metadata": {},
   "outputs": [
    {
     "data": {
      "text/html": [
       "<div>\n",
       "<style scoped>\n",
       "    .dataframe tbody tr th:only-of-type {\n",
       "        vertical-align: middle;\n",
       "    }\n",
       "\n",
       "    .dataframe tbody tr th {\n",
       "        vertical-align: top;\n",
       "    }\n",
       "\n",
       "    .dataframe thead th {\n",
       "        text-align: right;\n",
       "    }\n",
       "</style>\n",
       "<table border=\"1\" class=\"dataframe\">\n",
       "  <thead>\n",
       "    <tr style=\"text-align: right;\">\n",
       "      <th></th>\n",
       "      <th>Patient ID</th>\n",
       "      <th>Blood Pressure Before (mmHg)</th>\n",
       "      <th>Blood Pressure After (mmHg)</th>\n",
       "    </tr>\n",
       "  </thead>\n",
       "  <tbody>\n",
       "    <tr>\n",
       "      <th>0</th>\n",
       "      <td>1</td>\n",
       "      <td>130</td>\n",
       "      <td>120</td>\n",
       "    </tr>\n",
       "    <tr>\n",
       "      <th>1</th>\n",
       "      <td>2</td>\n",
       "      <td>142</td>\n",
       "      <td>135</td>\n",
       "    </tr>\n",
       "    <tr>\n",
       "      <th>2</th>\n",
       "      <td>3</td>\n",
       "      <td>120</td>\n",
       "      <td>118</td>\n",
       "    </tr>\n",
       "    <tr>\n",
       "      <th>3</th>\n",
       "      <td>4</td>\n",
       "      <td>135</td>\n",
       "      <td>127</td>\n",
       "    </tr>\n",
       "    <tr>\n",
       "      <th>4</th>\n",
       "      <td>5</td>\n",
       "      <td>148</td>\n",
       "      <td>140</td>\n",
       "    </tr>\n",
       "    <tr>\n",
       "      <th>...</th>\n",
       "      <td>...</td>\n",
       "      <td>...</td>\n",
       "      <td>...</td>\n",
       "    </tr>\n",
       "    <tr>\n",
       "      <th>95</th>\n",
       "      <td>96</td>\n",
       "      <td>136</td>\n",
       "      <td>129</td>\n",
       "    </tr>\n",
       "    <tr>\n",
       "      <th>96</th>\n",
       "      <td>97</td>\n",
       "      <td>143</td>\n",
       "      <td>137</td>\n",
       "    </tr>\n",
       "    <tr>\n",
       "      <th>97</th>\n",
       "      <td>98</td>\n",
       "      <td>127</td>\n",
       "      <td>123</td>\n",
       "    </tr>\n",
       "    <tr>\n",
       "      <th>98</th>\n",
       "      <td>99</td>\n",
       "      <td>139</td>\n",
       "      <td>135</td>\n",
       "    </tr>\n",
       "    <tr>\n",
       "      <th>99</th>\n",
       "      <td>100</td>\n",
       "      <td>135</td>\n",
       "      <td>130</td>\n",
       "    </tr>\n",
       "  </tbody>\n",
       "</table>\n",
       "<p>100 rows × 3 columns</p>\n",
       "</div>"
      ],
      "text/plain": [
       "    Patient ID   Blood Pressure Before (mmHg)   Blood Pressure After (mmHg)\n",
       "0            1                            130                           120\n",
       "1            2                            142                           135\n",
       "2            3                            120                           118\n",
       "3            4                            135                           127\n",
       "4            5                            148                           140\n",
       "..         ...                            ...                           ...\n",
       "95          96                            136                           129\n",
       "96          97                            143                           137\n",
       "97          98                            127                           123\n",
       "98          99                            139                           135\n",
       "99         100                            135                           130\n",
       "\n",
       "[100 rows x 3 columns]"
      ]
     },
     "execution_count": 27,
     "metadata": {},
     "output_type": "execute_result"
    }
   ],
   "source": [
    "import pandas as pd\n",
    "from scipy.stats import f_oneway, bartlett\n",
    "from sklearn.discriminant_analysis import LinearDiscriminantAnalysis, QuadraticDiscriminantAnalysis\n",
    "\n",
    "# Load the dataset\n",
    "url = \"https://raw.githubusercontent.com/astha1997/hello-world/main/data.csv\"\n",
    "df = pd.read_csv(url)\n",
    "df"
   ]
  },
  {
   "cell_type": "code",
   "execution_count": 29,
   "id": "ab99fe49",
   "metadata": {},
   "outputs": [
    {
     "name": "stdout",
     "output_type": "stream",
     "text": [
      "The distribution of classes is not the same.\n"
     ]
    }
   ],
   "source": [
    "# a. Check whether the distribution of all the classes are the same or not\n",
    "anova_result = f_oneway(df[' Blood Pressure Before (mmHg)'], df[' Blood Pressure After (mmHg)'])\n",
    "if anova_result.pvalue < 0.05:\n",
    "    print(\"The distribution of classes is not the same.\")\n",
    "else:\n",
    "    print(\"The distribution of classes is the same.\")"
   ]
  },
  {
   "cell_type": "code",
   "execution_count": 30,
   "id": "234d4fd0",
   "metadata": {},
   "outputs": [
    {
     "name": "stdout",
     "output_type": "stream",
     "text": [
      "The variances are equal.\n"
     ]
    }
   ],
   "source": [
    "# b. Check for the equality of variance\n",
    "bartlett_result = bartlett(df[' Blood Pressure Before (mmHg)'], df[' Blood Pressure After (mmHg)'])\n",
    "if bartlett_result.pvalue < 0.05:\n",
    "    print(\"The variances are not equal.\")\n",
    "else:\n",
    "    print(\"The variances are equal.\")"
   ]
  },
  {
   "cell_type": "code",
   "execution_count": null,
   "id": "a0b5b817",
   "metadata": {},
   "outputs": [],
   "source": [
    "# c.Which amount LDA and QDA would perform better on this data for classification and why.\n",
    "\n"
   ]
  },
  {
   "cell_type": "code",
   "execution_count": 31,
   "id": "bfa93774",
   "metadata": {},
   "outputs": [
    {
     "name": "stdout",
     "output_type": "stream",
     "text": [
      "The means are not equal for all classes.\n"
     ]
    }
   ],
   "source": [
    "\n",
    "# d. Check the equality of mean for between all the classes\n",
    "class_a_mean = df[' Blood Pressure Before (mmHg)'].mean()\n",
    "class_b_mean = df[' Blood Pressure After (mmHg)'].mean()\n",
    "\n",
    "\n",
    "if class_a_mean == class_b_mean :\n",
    "    print(\"The means are equal for all classes.\")\n",
    "else:\n",
    "    print(\"The means are not equal for all classes.\")"
   ]
  },
  {
   "cell_type": "markdown",
   "id": "d8550148",
   "metadata": {},
   "source": [
    "Q-12. A pharmaceutical company develops a new drug and wants to compare its\n",
    "effectiveness against a standard drug for treating a particular condition. They conduct a\n",
    "study with two groups: Group A receives the new drug, and Group B receives the standard\n",
    "drug. The company measures the improvement in a specific symptom for both groups after\n",
    "a 4-week treatment period.\n",
    "a. The company collects data from 30 patients in each group and calculates the\n",
    "mean improvement score and the standard deviation of improvement for each\n",
    "group. The mean improvement score for Group A is 2.5 with a standard\n",
    "deviation of 0.8, while the mean improvement score for Group B is 2.2 with a\n",
    "standard deviation of 0.6. Conduct a t-test to determine if there is a significant\n",
    "difference in the mean improvement scores between the two groups. Use a\n",
    "significance level of 0.05.\n",
    "b. Based on the t-test results, state whether the null hypothesis should be\n",
    "rejected or not. Provide a conclusion in the context of the study."
   ]
  },
  {
   "cell_type": "markdown",
   "id": "b9820678",
   "metadata": {},
   "source": [
    "To conduct a t-test and determine if there is a significant difference in the mean improvement scores between Group A and Group B, we can follow these steps:\n",
    "\n",
    "Step 1: State the null hypothesis (H0) and the alternative hypothesis (Ha):\n",
    "- Null hypothesis (H0): There is no significant difference in the mean improvement scores between Group A and Group B.\n",
    "- Alternative hypothesis (Ha): There is a significant difference in the mean improvement scores between Group A and Group B.\n",
    "\n",
    "Step 2: Select the significance level (alpha):\n",
    "In this case, the significance level is given as 0.05.\n",
    "\n",
    "Step 3: Conduct the t-test:\n",
    "We will use a two-sample independent t-test since we are comparing two independent groups (Group A and Group B).\n",
    "\n",
    "Step 4: Calculate the test statistic and the p-value:\n",
    "We can use a statistical software or calculator to calculate the test statistic and the p-value. The test statistic is calculated using the formula:\n",
    "\n",
    "t = (mean(Group A) - mean(Group B)) / sqrt((s^2(Group A) / n(Group A)) + (s^2(Group B) / n(Group B)))\n",
    "\n",
    "where mean(Group A) and mean(Group B) are the sample means, s(Group A) and s(Group B) are the sample standard deviations, and n(Group A) and n(Group B) are the sample sizes.\n",
    "\n",
    "The degrees of freedom for the t-test is given by df = n(Group A) + n(Group B) - 2.\n",
    "\n",
    "Step 5: Determine the critical value or compare the p-value with the significance level:\n",
    "If the p-value is less than the significance level (0.05), we reject the null hypothesis. Otherwise, we fail to reject the null hypothesis.\n",
    "\n",
    "Based on the t-test results, we can make a conclusion about the significance of the difference in mean improvement scores between Group A and Group B."
   ]
  },
  {
   "cell_type": "code",
   "execution_count": 32,
   "id": "e4ab86d3",
   "metadata": {},
   "outputs": [
    {
     "name": "stdout",
     "output_type": "stream",
     "text": [
      "Fail to reject the null hypothesis.\n",
      "There is no significant difference in the mean improvement scores between Group A and Group B.\n"
     ]
    }
   ],
   "source": [
    "import scipy.stats as stats\n",
    "\n",
    "mean_A = 2.5\n",
    "std_deviation_A = 0.8\n",
    "n_A = 30\n",
    "\n",
    "mean_B = 2.2\n",
    "std_deviation_B = 0.6\n",
    "n_B = 30\n",
    "\n",
    "# Calculate the t-value and p-value\n",
    "t_value, p_value = stats.ttest_ind_from_stats(mean_A, std_deviation_A, n_A, mean_B, std_deviation_B, n_B)\n",
    "\n",
    "# Compare the p-value with the significance level\n",
    "significance_level = 0.05\n",
    "if p_value < significance_level:\n",
    "    print(\"Reject the null hypothesis.\")\n",
    "else:\n",
    "    print(\"Fail to reject the null hypothesis.\")\n",
    "\n",
    "# Provide a conclusion\n",
    "if p_value < significance_level:\n",
    "    print(\"There is a significant difference in the mean improvement scores between Group A and Group B.\")\n",
    "else:\n",
    "    print(\"There is no significant difference in the mean improvement scores between Group A and Group B.\")"
   ]
  }
 ],
 "metadata": {
  "kernelspec": {
   "display_name": "Python 3 (ipykernel)",
   "language": "python",
   "name": "python3"
  },
  "language_info": {
   "codemirror_mode": {
    "name": "ipython",
    "version": 3
   },
   "file_extension": ".py",
   "mimetype": "text/x-python",
   "name": "python",
   "nbconvert_exporter": "python",
   "pygments_lexer": "ipython3",
   "version": "3.9.13"
  }
 },
 "nbformat": 4,
 "nbformat_minor": 5
}
